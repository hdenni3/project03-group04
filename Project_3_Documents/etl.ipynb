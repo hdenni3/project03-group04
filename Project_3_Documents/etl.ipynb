{
 "cells": [
  {
   "cell_type": "code",
   "execution_count": null,
   "id": "4446a2c5-7474-4672-8888-ee4c18adfe74",
   "metadata": {},
   "outputs": [],
   "source": [
    "# dependencies\n",
    "import chardet\n",
    "import pandas as pd\n",
    "import os "
   ]
  },
  {
   "cell_type": "code",
   "execution_count": null,
   "id": "bc58bd79-b7b1-41c7-b417-32b04221c866",
   "metadata": {},
   "outputs": [],
   "source": [
    "# Load in file\n",
    "# Store filepath in a variable\n",
    "YOUTUBE_PATH = \"Resources/global_youtube_stats.csv\""
   ]
  },
  {
   "cell_type": "code",
   "execution_count": null,
   "id": "e24dc76a-c55a-4ad4-827a-92622875ce38",
   "metadata": {},
   "outputs": [],
   "source": [
    "with open(YOUTUBE_PATH, 'rb') as csv_file:\n",
    "    raw_content = csv_file.read()\n",
    "    chardet_result = chardet.detect(raw_content)\n",
    "print(chardet_result)"
   ]
  },
  {
   "cell_type": "code",
   "execution_count": null,
   "id": "17567336-be82-429d-b729-2ef2ce65c350",
   "metadata": {},
   "outputs": [],
   "source": [
    "# Read and display the CSV with Pandas\n",
    "df = pd.read_csv(YOUTUBE_PATH, encoding=chardet_result['encoding'])\n",
    "df.head()"
   ]
  },
  {
   "cell_type": "code",
   "execution_count": null,
   "id": "5072835d-de76-48ef-b0cb-1b8b4cd49cea",
   "metadata": {},
   "outputs": [],
   "source": [
    "df.isna().sum()"
   ]
  },
  {
   "cell_type": "code",
   "execution_count": null,
   "id": "2899900e-14b8-40d3-a0a0-9cbe76bd4238",
   "metadata": {},
   "outputs": [],
   "source": [
    "na_country_mask_s = df[\"Country\"].isna()"
   ]
  },
  {
   "cell_type": "code",
   "execution_count": null,
   "id": "3fdb538d-642e-41e9-8682-7907e4a2ee9c",
   "metadata": {},
   "outputs": [],
   "source": [
    "zero_views_mask_s = df[\"video views\"] == 0\n",
    "zero_views_mask_s.head()"
   ]
  },
  {
   "cell_type": "code",
   "execution_count": null,
   "id": "93287014-61dc-44cf-b2f1-f72c92196fac",
   "metadata": {},
   "outputs": [],
   "source": [
    "df[na_country_mask_s & zero_views_mask_s]"
   ]
  },
  {
   "cell_type": "code",
   "execution_count": null,
   "id": "b096bb6b-05a4-4d1c-b2c7-f312a827b71c",
   "metadata": {},
   "outputs": [],
   "source": [
    "clean_df = df[~zero_views_mask_s]\n",
    "clean_df"
   ]
  },
  {
   "cell_type": "code",
   "execution_count": null,
   "id": "fa67bad6-1ca3-431c-8dde-7fa3acb63f5e",
   "metadata": {},
   "outputs": [],
   "source": [
    "clean_df.isna().sum()"
   ]
  },
  {
   "cell_type": "code",
   "execution_count": null,
   "id": "f10df68c-7931-474a-8d11-9446ea192698",
   "metadata": {},
   "outputs": [],
   "source": [
    "nan_cat_mask_s = clean_df[\"category\"].isna()"
   ]
  },
  {
   "cell_type": "code",
   "execution_count": null,
   "id": "b11b462d-37b3-465a-96c3-e99e2fe49e86",
   "metadata": {},
   "outputs": [],
   "source": [
    "clean_df[nan_cat_mask_s]"
   ]
  },
  {
   "cell_type": "code",
   "execution_count": null,
   "id": "728c4ece-2cc1-4a5a-8489-fda6bbb33b71",
   "metadata": {},
   "outputs": [],
   "source": [
    "clean_df.loc[nan_cat_mask_s, \"category\"] = \"UNKNOWN\""
   ]
  },
  {
   "cell_type": "code",
   "execution_count": null,
   "id": "81e2c569-c6bd-4166-a1f7-3c4cb3b076d2",
   "metadata": {},
   "outputs": [],
   "source": [
    "clean_df.dropna(subset=['Latitude', 'Longitude'], axis='rows').isna().sum()"
   ]
  },
  {
   "cell_type": "code",
   "execution_count": null,
   "id": "2f4036d5-af56-4ebd-82cf-afa3f6b7c1f3",
   "metadata": {},
   "outputs": [],
   "source": [
    "# CODE BELOW MAY BE OBSOLETE/ INCORRECT"
   ]
  },
  {
   "cell_type": "code",
   "execution_count": null,
   "id": "741e4d97-54b2-486f-aa1e-f454521d3bea",
   "metadata": {},
   "outputs": [],
   "source": [
    "nan_country_mask_s = clean_df[\"Country\"].isna()"
   ]
  },
  {
   "cell_type": "code",
   "execution_count": null,
   "id": "8e98b91a-87ba-48a4-9e86-a946037fbedc",
   "metadata": {},
   "outputs": [],
   "source": [
    "clean_df[nan_country_mask_s]"
   ]
  },
  {
   "cell_type": "code",
   "execution_count": null,
   "id": "085f2644-f0b0-4d8f-a0b5-40a071c5559d",
   "metadata": {},
   "outputs": [],
   "source": [
    "clean_df[\"Abbreviation\"].unique()"
   ]
  },
  {
   "cell_type": "code",
   "execution_count": null,
   "id": "2df0de9f-6bb1-4ac1-8d3f-5d35e3eaf33a",
   "metadata": {},
   "outputs": [],
   "source": [
    "unknown_country_columns = [\"Country\", \"Gross tertiary education enrollment (%)\", \"Population\",\n",
    "                           \"Unemployment rate\", \"Urban_population\", \"Latitude\", \"Longitude\"]"
   ]
  },
  {
   "cell_type": "code",
   "execution_count": null,
   "id": "8e6b3406-09ba-4cb7-944a-b2ccbd47b747",
   "metadata": {},
   "outputs": [],
   "source": [
    "clean_df.dtypes[\"Latitude\"]\n"
   ]
  },
  {
   "cell_type": "code",
   "execution_count": null,
   "id": "aec46125-6131-4ba2-89d2-53c636ae3b11",
   "metadata": {},
   "outputs": [],
   "source": [
    "for column in unknown_country_columns:\n",
    "    \n",
    "    clean_df.loc[nan_country_mask_s, column] = \"UNKNOWN\"\n",
    "\n",
    "clean_df.loc[nan_country_mask_s, \"Abbreviation\"] = \"ZZ\""
   ]
  },
  {
   "cell_type": "code",
   "execution_count": null,
   "id": "8015b351-7f3c-4175-9467-f135aa2f70cc",
   "metadata": {},
   "outputs": [],
   "source": [
    "clean_df.isna().sum()"
   ]
  },
  {
   "cell_type": "code",
   "execution_count": null,
   "id": "0dbf28d2-67ff-4223-b85c-271ef7506a03",
   "metadata": {},
   "outputs": [],
   "source": []
  },
  {
   "cell_type": "code",
   "execution_count": null,
   "id": "3021b9f4-009c-4786-b716-ad23c1b27e90",
   "metadata": {},
   "outputs": [],
   "source": []
  },
  {
   "cell_type": "code",
   "execution_count": null,
   "id": "94fc19f2-5759-4066-a97c-200f9656609b",
   "metadata": {},
   "outputs": [],
   "source": []
  }
 ],
 "metadata": {
  "kernelspec": {
   "display_name": "Python 3 (ipykernel)",
   "language": "python",
   "name": "python3"
  },
  "language_info": {
   "codemirror_mode": {
    "name": "ipython",
    "version": 3
   },
   "file_extension": ".py",
   "mimetype": "text/x-python",
   "name": "python",
   "nbconvert_exporter": "python",
   "pygments_lexer": "ipython3",
   "version": "3.10.14"
  }
 },
 "nbformat": 4,
 "nbformat_minor": 5
}
