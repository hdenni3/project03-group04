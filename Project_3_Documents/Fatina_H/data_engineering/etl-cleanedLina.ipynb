{
 "cells": [
  {
   "cell_type": "code",
   "execution_count": 4,
   "id": "4446a2c5-7474-4672-8888-ee4c18adfe74",
   "metadata": {},
   "outputs": [],
   "source": [
    "# dependencies\n",
    "import chardet\n",
    "import pandas as pd\n",
    "import os \n",
    "import matplotlib.pyplot as plt\n",
    "import numpy as np\n",
    "import seaborn as sns\n",
    "\n",
    "# API\n",
    "import requests\n",
    "import json\n",
    "\n",
    "# Python SQL toolkit and Object Relational Mapper\n",
    "import sqlalchemy\n",
    "from sqlalchemy.ext.automap import automap_base\n",
    "from sqlalchemy.orm import Session\n",
    "from sqlalchemy import create_engine, text, inspect, func\n"
   ]
  },
  {
   "cell_type": "code",
   "execution_count": 5,
   "id": "bc58bd79-b7b1-41c7-b417-32b04221c866",
   "metadata": {},
   "outputs": [],
   "source": [
    "# Load in file\n",
    "# Store filepath in a variable\n",
    "YOUTUBE_PATH = \"Resources/global_youtube_stats.csv\""
   ]
  },
  {
   "cell_type": "code",
   "execution_count": 6,
   "id": "e24dc76a-c55a-4ad4-827a-92622875ce38",
   "metadata": {},
   "outputs": [
    {
     "ename": "FileNotFoundError",
     "evalue": "[Errno 2] No such file or directory: 'Resources/global_youtube_stats.csv'",
     "output_type": "error",
     "traceback": [
      "\u001b[0;31m---------------------------------------------------------------------------\u001b[0m",
      "\u001b[0;31mFileNotFoundError\u001b[0m                         Traceback (most recent call last)",
      "Cell \u001b[0;32mIn[6], line 1\u001b[0m\n\u001b[0;32m----> 1\u001b[0m \u001b[38;5;28;01mwith\u001b[39;00m \u001b[38;5;28;43mopen\u001b[39;49m\u001b[43m(\u001b[49m\u001b[43mYOUTUBE_PATH\u001b[49m\u001b[43m,\u001b[49m\u001b[43m \u001b[49m\u001b[38;5;124;43m'\u001b[39;49m\u001b[38;5;124;43mrb\u001b[39;49m\u001b[38;5;124;43m'\u001b[39;49m\u001b[43m)\u001b[49m \u001b[38;5;28;01mas\u001b[39;00m csv_file:\n\u001b[1;32m      2\u001b[0m     raw_content \u001b[38;5;241m=\u001b[39m csv_file\u001b[38;5;241m.\u001b[39mread()\n\u001b[1;32m      3\u001b[0m     chardet_result \u001b[38;5;241m=\u001b[39m chardet\u001b[38;5;241m.\u001b[39mdetect(raw_content)\n",
      "File \u001b[0;32m/opt/anaconda3/envs/dev/lib/python3.10/site-packages/IPython/core/interactiveshell.py:310\u001b[0m, in \u001b[0;36m_modified_open\u001b[0;34m(file, *args, **kwargs)\u001b[0m\n\u001b[1;32m    303\u001b[0m \u001b[38;5;28;01mif\u001b[39;00m file \u001b[38;5;129;01min\u001b[39;00m {\u001b[38;5;241m0\u001b[39m, \u001b[38;5;241m1\u001b[39m, \u001b[38;5;241m2\u001b[39m}:\n\u001b[1;32m    304\u001b[0m     \u001b[38;5;28;01mraise\u001b[39;00m \u001b[38;5;167;01mValueError\u001b[39;00m(\n\u001b[1;32m    305\u001b[0m         \u001b[38;5;124mf\u001b[39m\u001b[38;5;124m\"\u001b[39m\u001b[38;5;124mIPython won\u001b[39m\u001b[38;5;124m'\u001b[39m\u001b[38;5;124mt let you open fd=\u001b[39m\u001b[38;5;132;01m{\u001b[39;00mfile\u001b[38;5;132;01m}\u001b[39;00m\u001b[38;5;124m by default \u001b[39m\u001b[38;5;124m\"\u001b[39m\n\u001b[1;32m    306\u001b[0m         \u001b[38;5;124m\"\u001b[39m\u001b[38;5;124mas it is likely to crash IPython. If you know what you are doing, \u001b[39m\u001b[38;5;124m\"\u001b[39m\n\u001b[1;32m    307\u001b[0m         \u001b[38;5;124m\"\u001b[39m\u001b[38;5;124myou can use builtins\u001b[39m\u001b[38;5;124m'\u001b[39m\u001b[38;5;124m open.\u001b[39m\u001b[38;5;124m\"\u001b[39m\n\u001b[1;32m    308\u001b[0m     )\n\u001b[0;32m--> 310\u001b[0m \u001b[38;5;28;01mreturn\u001b[39;00m \u001b[43mio_open\u001b[49m\u001b[43m(\u001b[49m\u001b[43mfile\u001b[49m\u001b[43m,\u001b[49m\u001b[43m \u001b[49m\u001b[38;5;241;43m*\u001b[39;49m\u001b[43margs\u001b[49m\u001b[43m,\u001b[49m\u001b[43m \u001b[49m\u001b[38;5;241;43m*\u001b[39;49m\u001b[38;5;241;43m*\u001b[39;49m\u001b[43mkwargs\u001b[49m\u001b[43m)\u001b[49m\n",
      "\u001b[0;31mFileNotFoundError\u001b[0m: [Errno 2] No such file or directory: 'Resources/global_youtube_stats.csv'"
     ]
    }
   ],
   "source": [
    "with open(YOUTUBE_PATH, 'rb') as csv_file:\n",
    "    raw_content = csv_file.read()\n",
    "    chardet_result = chardet.detect(raw_content)\n",
    "print(chardet_result)"
   ]
  },
  {
   "cell_type": "code",
   "execution_count": null,
   "id": "17567336-be82-429d-b729-2ef2ce65c350",
   "metadata": {},
   "outputs": [],
   "source": [
    "# Read and display the CSV with Pandas\n",
    "df = pd.read_csv(YOUTUBE_PATH, encoding=chardet_result['encoding'])\n",
    "df.head()"
   ]
  },
  {
   "cell_type": "code",
   "execution_count": null,
   "id": "447b885b-65d8-4852-a7b1-f9046f1cc327",
   "metadata": {},
   "outputs": [],
   "source": [
    "df.info()"
   ]
  },
  {
   "cell_type": "code",
   "execution_count": null,
   "id": "c705f65b-7303-495c-ae26-559a1cd4478a",
   "metadata": {},
   "outputs": [],
   "source": [
    "df.dropna(inplace=True)"
   ]
  },
  {
   "cell_type": "code",
   "execution_count": null,
   "id": "135e61ab-fd8f-47a5-bedb-08f8c0ca3d5e",
   "metadata": {},
   "outputs": [],
   "source": [
    "df.info()"
   ]
  },
  {
   "cell_type": "code",
   "execution_count": null,
   "id": "0dbf28d2-67ff-4223-b85c-271ef7506a03",
   "metadata": {},
   "outputs": [],
   "source": [
    "# pd.set_option('display.max_rows', None)  # Set the option to display all rows\n",
    "#print(df)"
   ]
  },
  {
   "cell_type": "code",
   "execution_count": null,
   "id": "3021b9f4-009c-4786-b716-ad23c1b27e90",
   "metadata": {},
   "outputs": [],
   "source": [
    "# Assuming your DataFrame is named df\n",
    "# Rename specific columns\n",
    "cleaned_df = df.rename(columns={\n",
    "    'Gross tertiary education enrollment (%)': 'gross education enrollment percentage',\n",
    "    'Youtuber': 'youtuber',\n",
    "    'Title': 'title',\n",
    "    'Abbreviation': 'abbreviation',\n",
    "    'Country' : 'country',\n",
    "    'Population': 'population',\n",
    "    'Unemployment rate': 'unemployment rate',\n",
    "    'Urban_population' : 'urban_population',\n",
    "    'Latitude' : 'latitude',\n",
    "    'Longitude' : 'longitude',\n",
    "    'video views' : 'video_views'\n",
    "    })\n",
    "\n",
    "# Display the DataFrame with renamed columns\n",
    "cleaned_df.head()"
   ]
  },
  {
   "cell_type": "code",
   "execution_count": null,
   "id": "94fc19f2-5759-4066-a97c-200f9656609b",
   "metadata": {},
   "outputs": [],
   "source": [
    "# Specify the URI for the cleaned database\n",
    "db_uri = 'sqlite:///data.db'\n",
    "\n",
    "# Create an engine using the specified URI\n",
    "engine = create_engine(db_uri)\n",
    "\n",
    "# Write the cleaned DataFrame to a SQLite database table named 'my_table'\n",
    "cleaned_df.to_sql('my_table', engine, if_exists='replace', index=False)\n",
    "\n",
    "# Confirm that the data has been successfully written to the database\n",
    "df_from_db = pd.read_sql('my_table', engine)\n",
    "print(df_from_db)"
   ]
  },
  {
   "cell_type": "code",
   "execution_count": null,
   "id": "0cf73e06-847a-4832-add7-c89ab6231fdc",
   "metadata": {},
   "outputs": [],
   "source": [
    "# INSPECT to confirm existence\n",
    "# Create the inspector and connect it to the engine\n",
    "inspector = inspect(engine)\n",
    "\n",
    "# Collect the names of tables within the database\n",
    "tables = inspector.get_table_names()\n",
    "\n",
    "print(tables)"
   ]
  },
  {
   "cell_type": "code",
   "execution_count": null,
   "id": "f70d8974-1d23-44d4-9e2a-57aa73e26464",
   "metadata": {},
   "outputs": [],
   "source": [
    "#1a. Define the SQL query top channels by subscribers\n",
    "query = \"\"\"\n",
    "SELECT Rank, Youtuber, Subscribers, country, channel_type\n",
    "FROM my_table\n",
    "ORDER BY Subscribers DESC\n",
    "LIMIT 25\n",
    "\"\"\"\n",
    "\n",
    "# Execute the query and read the results into a DataFrame\n",
    "df = pd.read_sql(text(query), con=engine)\n",
    "df.head(25)"
   ]
  },
  {
   "cell_type": "code",
   "execution_count": null,
   "id": "803e2201-64b8-41b0-a62d-582ca766ca23",
   "metadata": {},
   "outputs": [],
   "source": [
    "#3.Define the SQL query top channels by video views\n",
    "query = \"\"\"\n",
    "SELECT Rank, Youtuber,subscribers, video_views, country\n",
    "FROM my_table\n",
    "ORDER BY Subscribers DESC\n",
    "LIMIT 25\n",
    "\"\"\"\n",
    "\n",
    "# Execute the query and read the results into a DataFrame\n",
    "df = pd.read_sql(text(query), con=engine)\n",
    "df.head(25)"
   ]
  },
  {
   "cell_type": "code",
   "execution_count": null,
   "id": "b3a0d804-0444-40fc-9d5b-b78a19d24cc4",
   "metadata": {},
   "outputs": [],
   "source": [
    "# 5. Define the SQL query top channels the high video views\n",
    "query = \"\"\"\n",
    "SELECT Rank, Youtuber, video_views, country\n",
    "FROM my_table\n",
    "ORDER BY Subscribers DESC\n",
    "LIMIT 25\n",
    "\"\"\"\n",
    "\n",
    "# Execute the query and read the results into a DataFrame\n",
    "df = pd.read_sql(text(query), con=engine)\n",
    "df.head(25)"
   ]
  },
  {
   "cell_type": "code",
   "execution_count": null,
   "id": "dccc3b22-9153-4449-a09c-7b4a775c39d0",
   "metadata": {},
   "outputs": [],
   "source": [
    "# Define the SQL query\n",
    "query = \"\"\"\n",
    "SELECT youtuber, subscribers, category, country,  MAX(highest_yearly_earnings) AS highest_yearly_earnings\n",
    "FROM my_table\n",
    "GROUP BY youtuber, subscribers, category\n",
    "ORDER BY youtuber DESC, highest_yearly_earnings DESC\n",
    "LIMIT 50;\n",
    "\"\"\"\n",
    "\n",
    "# Execute the query and read the results into a DataFrame\n",
    "df = pd.read_sql(text(query), con=engine)\n",
    "df.head(50)"
   ]
  },
  {
   "cell_type": "code",
   "execution_count": null,
   "id": "e5dd8eee-831f-477f-a2f4-7de83eeafea6",
   "metadata": {},
   "outputs": [],
   "source": [
    "# Define the SQL query\n",
    "query = \"\"\"\n",
    "SELECT channel_type, youtuber, subscribers, category, country, SUM(video_views) AS total_views\n",
    "FROM my_table\n",
    "GROUP BY channel_type\n",
    "ORDER BY total_views DESC\n",
    "LIMIT 25;\n",
    "\"\"\"\n",
    "\n",
    "# Execute the query and read the results into a DataFrame\n",
    "df = pd.read_sql(text(query), con=engine)\n",
    "df.head(25)"
   ]
  },
  {
   "cell_type": "code",
   "execution_count": null,
   "id": "b80e7a9a-0848-422b-bc94-dab9fa20728f",
   "metadata": {},
   "outputs": [],
   "source": [
    "# Define the SQL query\n",
    "query = \"\"\"\n",
    "SELECT youtuber, subscribers, category,channel_type, country, uploads, SUM(uploads) AS total_uploads\n",
    "FROM my_table\n",
    "GROUP BY uploads\n",
    "ORDER BY total_uploads DESC\n",
    "LIMIT 25;\n",
    "\"\"\"\n",
    "\n",
    "# Execute the query and read the results into a DataFrame\n",
    "df = pd.read_sql(text(query), con=engine)\n",
    "df.head(25)"
   ]
  },
  {
   "cell_type": "code",
   "execution_count": null,
   "id": "e7fdb0dd-504e-4e33-907c-c77277cc7706",
   "metadata": {},
   "outputs": [],
   "source": [
    "query = \"\"\" \n",
    "SELECT Youtuber, SUM(video_views) AS total_video_views\n",
    "FROM my_table\n",
    "GROUP BY Youtuber\n",
    "ORDER BY total_video_views DESC\n",
    "LIMIT 25;\n",
    "\"\"\"\n",
    "\n",
    "# Execute the query and read the results into a DataFrame\n",
    "df = pd.read_sql(text(query), con=engine)\n",
    "df.head(25)"
   ]
  },
  {
   "cell_type": "code",
   "execution_count": null,
   "id": "bee327d0-f324-4ce3-ad7c-54d664419637",
   "metadata": {},
   "outputs": [],
   "source": [
    "# close the engine\n",
    "engine.dispose()"
   ]
  }
 ],
 "metadata": {
  "kernelspec": {
   "display_name": "Python 3 (ipykernel)",
   "language": "python",
   "name": "python3"
  },
  "language_info": {
   "codemirror_mode": {
    "name": "ipython",
    "version": 3
   },
   "file_extension": ".py",
   "mimetype": "text/x-python",
   "name": "python",
   "nbconvert_exporter": "python",
   "pygments_lexer": "ipython3",
   "version": "3.12.4"
  }
 },
 "nbformat": 4,
 "nbformat_minor": 5
}
